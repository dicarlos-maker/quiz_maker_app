{
 "cells": [
  {
   "cell_type": "code",
   "execution_count": null,
   "id": "b330603e",
   "metadata": {},
   "outputs": [],
   "source": [
    "# Dictionary to store the quiz questions \n",
    "1\n",
    "quiz_questions = {\n",
    "    \"What is the correct file extension for python files?\": {\n",
    "        \"options\": [\"A. .pt\", \"B. .py\", \"C. .python\", \"D. .pyt\", ],\n",
    "        \"answer\": \"B\"\n",
    "    }\n",
    "}"
   ]
  },
  {
   "cell_type": "code",
   "execution_count": null,
   "id": "08fb9309",
   "metadata": {},
   "outputs": [],
   "source": [
    "2\n",
    "quiz_questions = {\n",
    "    \"What is the output of the following code?\\ns = \\\"Python\\\"\\nprint(s[1:4])\": {\n",
    "        \"options\": [\"A) Python\", \"B) yth\", \"C) Pyt\", \"D) ytho\"],\n",
    "        \"answer\": \"B\"\n",
    "    }\n",
    "}"
   ]
  },
  {
   "cell_type": "code",
   "execution_count": null,
   "id": "d178e8b3",
   "metadata": {},
   "outputs": [],
   "source": [
    "3\n",
    "quiz_questions = {\n",
    "    \"What is the output of the following code?\\ns = \\\"Python\\\"\\nprint(s[-1])\": {\n",
    "        \"options\": [\"A) P\", \"B) y\", \"C) n\", \"D) h\"],\n",
    "        \"answer\": \"C\"\n",
    "    }\n",
    "}"
   ]
  },
  {
   "cell_type": "code",
   "execution_count": null,
   "id": "c03a4df2",
   "metadata": {},
   "outputs": [],
   "source": [
    "4\n",
    "quiz_questions = {\n",
    "   \"What is the output of the following code?\\ns = \\\"Hello World\\\"\\nprint(s.lower())\": {\n",
    "        \"options\": [\"A) Hello World\", \"B) hello world\", \"C) HELLO WORLD\", \"D) Hello world\"],\n",
    "        \"answer\": \"B\"\n",
    "    }\n",
    "}"
   ]
  },
  {
   "cell_type": "code",
   "execution_count": null,
   "id": "99cb2e49",
   "metadata": {},
   "outputs": [],
   "source": [
    "5\n",
    "quiz_questions = {\n",
    "    \"What is the output of the following code?\\ns = \\\"Hello, World!\\\"\\nprint(s[7])\": {\n",
    "        \"options\": [\"A) H\", \"B) o\", \"C) W\", \"D) r\"],\n",
    "        \"answer\": \"C\"\n",
    "    }\n",
    "}"
   ]
  },
  {
   "cell_type": "code",
   "execution_count": null,
   "id": "63207a68",
   "metadata": {},
   "outputs": [],
   "source": [
    "6\n",
    "quiz_questions = {\n",
    "    \"What is the correct way to add a comment in Python? (2 Points)\": {\n",
    "        \"options\": [\"A) // This is a comment\", \"B) /* This is a comment */\", \"C) # This is a comment\", \"D) \"],\n",
    "        \"answer\": \"C\"\n",
    "    }\n",
    "}"
   ]
  },
  {
   "cell_type": "code",
   "execution_count": null,
   "id": "5f4a0555",
   "metadata": {},
   "outputs": [],
   "source": [
    "7\n",
    "quiz_questions = {\n",
    "   \"Which function is used to add an element to a list?\": {\n",
    "        \"options\": [\"A) add()\", \"B) append()\", \"C) insert()\", \"D) extend()\"],\n",
    "        \"answer\": \"B\"\n",
    "    }\n",
    "}"
   ]
  },
  {
   "cell_type": "code",
   "execution_count": null,
   "id": "b4fad752",
   "metadata": {},
   "outputs": [],
   "source": [
    "8\n",
    "quiz_questions = {\n",
    "  \"What is the output of the following code?\\nx = 5\\ny = 10\\nif x > y:\\n    print(\\\"x is greater than y\\\")\\nelif x == y:\\n    print(\\\"x is equal to y\\\")\\nelse:\\n    print(\\\"x is less than y\\\")\": {\n",
    "        \"options\": [\"A) x is greater than y\", \"B) x is equal to y\", \"C) x is less than y\", \"D) Error\"],\n",
    "        \"answer\": \"C\"\n",
    "    }\n",
    "}"
   ]
  },
  {
   "cell_type": "code",
   "execution_count": null,
   "id": "2870f58b",
   "metadata": {},
   "outputs": [],
   "source": [
    "9\n",
    "quiz_questions = {\n",
    "       \"Which function is used to add an element to a list?\": {\n",
    "        \"options\": [\"A) add()\", \"B) append()\", \"C) insert()\", \"D) extend()\"],\n",
    "        \"answer\": \"B\"\n",
    "    }\n",
    "}"
   ]
  },
  {
   "cell_type": "code",
   "execution_count": null,
   "id": "88bfe9dd",
   "metadata": {},
   "outputs": [],
   "source": [
    "10\n",
    "quiz_questions = {\n",
    "    \"What is the output of the following code?\\nprint(type([1, 2, 3]))\": {\n",
    "        \"options\": [\"A) tuple\", \"B) list\", \"C) set\", \"D) dict\"],\n",
    "        \"answer\": \"B\"\n",
    "    }\n",
    "}"
   ]
  },
  {
   "cell_type": "code",
   "execution_count": null,
   "id": "61199e64",
   "metadata": {},
   "outputs": [],
   "source": [
    "# A function to allow admin to add questions\n",
    "def add_custom_questions():\n",
    "       print(\"\\n Add Your Own Questions (type 'done' to stop)\\n\")\n",
    "while True:\n",
    "       question = input(\"Enter your question(or type 'done' to finish): \")\n",
    "       if question.lower() == \"done\":\n",
    "            break \n",
    "\n",
    "       option = []\n",
    "       for i in [\"A\", \"B\", \"C\", \"D\"]:\n",
    "         option = input(f\"Enter option {i}: \")\n",
    "         option.append(f\"{i}. {option} \")\n",
    "         answer = input(\"Enter the correct answer (A,B,c, or D): \").strip().upper()\n",
    "         if answer in [\"A\", \"B\", \"C\", \"D\"]:\n",
    "              quiz_questions[question] = {\"options\": option, \"answer\": answer}\n",
    "              print(\"Question aded!\\n\")\n",
    "         else:\n",
    "              print(\"Invali answer. Please use A, B, C, or D. \\n\")\n",
    "                     "
   ]
  },
  {
   "cell_type": "code",
   "execution_count": null,
   "id": "a3875d25",
   "metadata": {},
   "outputs": [],
   "source": [
    "# A quiz Function\n",
    "def run_quiz():\n",
    "    print(\"\\n Welcome to the Quiz! Type A, B, C, or D to answer\")\n",
    "    score = 0\n",
    "    total = len(quiz_questions)\n",
    "    for question, details in quiz_questions.items():\n",
    "        print(\"\\n\" + question)\n",
    "        for option in details[\"options\"]:\n",
    "            print(option)\n",
    "            answer = input(\"Your answer\").strip().upper()\n",
    "            if answer == details[\"answer\"]:\n",
    "                print(\"Correct!\")\n",
    "                score += 1\n",
    "            else:\n",
    "                print(f\"Incorrect. The correcct answer is {details['answer']}.\")\n",
    "                print(f\"\\n Quiz Complete! Your final score is {score}/{total}\")\n",
    "                return score, total"
   ]
  },
  {
   "cell_type": "code",
   "execution_count": null,
   "id": "0ea04203",
   "metadata": {},
   "outputs": [],
   "source": [
    "def save_score(name, score, total):\n",
    "    with open(\"quiz_scores.text\", \"a\") as file:\n",
    "        file.write(f\"{name}: {score}/{total}\\n\")\n",
    "        print(\"Your score has been saved!\\n\")"
   ]
  },
  {
   "cell_type": "code",
   "execution_count": null,
   "id": "5df088f9",
   "metadata": {},
   "outputs": [],
   "source": [
    "# A function for the Main Program\n",
    "def main():\n",
    "    print(\"Welcome to the Quiz Maker & Grader!\")\n",
    "    name = input(\"Enter your name: \")\n",
    "    role = input(\"Enter your role (admin/student): \").lower()\n",
    "    if role == \"admin\":\n",
    "        print(f\"\\n Admin Access Granted. Hello, {name}!\")\n",
    "        add_q = input(\"Would you like to add your own questions? (yes/no): \").lower()\n",
    "        if add_q == \"yes\":\n",
    "            add_custom_questions()\n",
    "        elif role == \"student\":\n",
    "            print(f\"\\n Hello, {name}! Let's begin quiz.\")\n",
    "        else:\n",
    "            print(\"Invalid role. Exiting program.\")\n",
    "            return\n",
    "        score, total = run_quiz()\n",
    "        save_score(name, score, total)"
   ]
  },
  {
   "cell_type": "code",
   "execution_count": null,
   "id": "164cd119",
   "metadata": {},
   "outputs": [],
   "source": []
  }
 ],
 "metadata": {
  "kernelspec": {
   "display_name": "Python 3",
   "language": "python",
   "name": "python3"
  },
  "language_info": {
   "codemirror_mode": {
    "name": "ipython",
    "version": 3
   },
   "file_extension": ".py",
   "mimetype": "text/x-python",
   "name": "python",
   "nbconvert_exporter": "python",
   "pygments_lexer": "ipython3",
   "version": "3.13.3"
  }
 },
 "nbformat": 4,
 "nbformat_minor": 5
}
